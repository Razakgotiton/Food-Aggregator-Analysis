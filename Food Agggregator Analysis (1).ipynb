{
 "cells": [
  {
   "cell_type": "markdown",
   "id": "66bf82ef",
   "metadata": {},
   "source": [
    "Objective:\n",
    "\n",
    "The following key areas of analysis will be considered:\n",
    "\n",
    "* Customer Satisfaction Analysis: Analyze the rating data provided by customers to understand the level of satisfaction with different restaurants and cuisines. Identify the factors that contribute to higher customer satisfaction and identify areas for improvement.\n",
    "    \n",
    "\n",
    "* Restaurant Demand Analysis: Analyze the order data to identify the popular restaurants and cuisines among customers. Determine the demand patterns based on weekdays and weekends to optimize the availability of delivery personnel and streamline operations.\n",
    "    \n",
    "\n",
    "* Food Preparation and Delivery Time Analysis: Analyze the food preparation and delivery time data to identify bottlenecks in the process. Identify restaurants or cuisines that consistently have longer preparation times and work towards reducing them to improve customer experience.\n",
    "    \n",
    "\n",
    "* Cost Analysis: Analyze the cost data to identify the average cost of orders and any variations across different restaurants and cuisines. This analysis can help optimize pricing strategies and identify any potential areas for cost reduction.\n",
    "    \n",
    "\n",
    "* Customer Retention Analysis: Analyze customer order history to identify patterns of repeat orders and customer loyalty. Identify strategies to improve customer retention and increase customer lifetime value.\n",
    "    \n",
    "\n",
    "By focusing on these areas of analysis, the food aggregator company can gain valuable insights to make data-driven decisions and improve various aspects of their business, ultimately leading to enhanced customer satisfaction and sustainable growth."
   ]
  },
  {
   "cell_type": "code",
   "execution_count": 1,
   "id": "c42a9fba",
   "metadata": {},
   "outputs": [],
   "source": [
    "import pandas as pd\n",
    "import numpy as np"
   ]
  },
  {
   "cell_type": "code",
   "execution_count": 18,
   "id": "6f1cd24a",
   "metadata": {},
   "outputs": [],
   "source": [
    "df = pd.read_csv('food_order.csv')"
   ]
  },
  {
   "cell_type": "code",
   "execution_count": 3,
   "id": "f21ea194",
   "metadata": {},
   "outputs": [
    {
     "name": "stdout",
     "output_type": "stream",
     "text": [
      "   order_id  customer_id            restaurant_name cuisine_type  \\\n",
      "0   1477147       337525                    Hangawi       Korean   \n",
      "1   1477685       358141  Blue Ribbon Sushi Izakaya     Japanese   \n",
      "2   1477070        66393                Cafe Habana      Mexican   \n",
      "3   1477334       106968  Blue Ribbon Fried Chicken     American   \n",
      "4   1478249        76942           Dirty Bird to Go     American   \n",
      "\n",
      "   cost_of_the_order day_of_the_week     rating  food_preparation_time  \\\n",
      "0              30.75         Weekend  Not given                     25   \n",
      "1              12.08         Weekend  Not given                     25   \n",
      "2              12.23         Weekday          5                     23   \n",
      "3              29.20         Weekend          3                     25   \n",
      "4              11.59         Weekday          4                     25   \n",
      "\n",
      "   delivery_time  \n",
      "0             20  \n",
      "1             23  \n",
      "2             28  \n",
      "3             15  \n",
      "4             24  \n"
     ]
    }
   ],
   "source": [
    "print (df.head())"
   ]
  },
  {
   "cell_type": "code",
   "execution_count": 4,
   "id": "b5dfcaeb",
   "metadata": {},
   "outputs": [
    {
     "name": "stdout",
     "output_type": "stream",
     "text": [
      "<class 'pandas.core.frame.DataFrame'>\n",
      "RangeIndex: 1898 entries, 0 to 1897\n",
      "Data columns (total 9 columns):\n",
      " #   Column                 Non-Null Count  Dtype  \n",
      "---  ------                 --------------  -----  \n",
      " 0   order_id               1898 non-null   int64  \n",
      " 1   customer_id            1898 non-null   int64  \n",
      " 2   restaurant_name        1898 non-null   object \n",
      " 3   cuisine_type           1898 non-null   object \n",
      " 4   cost_of_the_order      1898 non-null   float64\n",
      " 5   day_of_the_week        1898 non-null   object \n",
      " 6   rating                 1898 non-null   object \n",
      " 7   food_preparation_time  1898 non-null   int64  \n",
      " 8   delivery_time          1898 non-null   int64  \n",
      "dtypes: float64(1), int64(4), object(4)\n",
      "memory usage: 133.6+ KB\n",
      "None\n"
     ]
    }
   ],
   "source": [
    "print (df.info())"
   ]
  },
  {
   "cell_type": "code",
   "execution_count": 5,
   "id": "cff01d7b",
   "metadata": {},
   "outputs": [
    {
     "name": "stdout",
     "output_type": "stream",
     "text": [
      "           order_id    customer_id  cost_of_the_order  food_preparation_time  \\\n",
      "count  1.898000e+03    1898.000000        1898.000000            1898.000000   \n",
      "mean   1.477496e+06  171168.478398          16.498851              27.371970   \n",
      "std    5.480497e+02  113698.139743           7.483812               4.632481   \n",
      "min    1.476547e+06    1311.000000           4.470000              20.000000   \n",
      "25%    1.477021e+06   77787.750000          12.080000              23.000000   \n",
      "50%    1.477496e+06  128600.000000          14.140000              27.000000   \n",
      "75%    1.477970e+06  270525.000000          22.297500              31.000000   \n",
      "max    1.478444e+06  405334.000000          35.410000              35.000000   \n",
      "\n",
      "       delivery_time  \n",
      "count    1898.000000  \n",
      "mean       24.161749  \n",
      "std         4.972637  \n",
      "min        15.000000  \n",
      "25%        20.000000  \n",
      "50%        25.000000  \n",
      "75%        28.000000  \n",
      "max        33.000000  \n"
     ]
    }
   ],
   "source": [
    "print (df.describe())"
   ]
  },
  {
   "cell_type": "code",
   "execution_count": 6,
   "id": "6c3d918c",
   "metadata": {},
   "outputs": [
    {
     "name": "stdout",
     "output_type": "stream",
     "text": [
      "float64\n"
     ]
    }
   ],
   "source": [
    "# Convert the \"Rating\" column to numeric\n",
    "df['rating'] = pd.to_numeric(df['rating'], errors='coerce')\n",
    "\n",
    "# Verifying the data type of the \"Rating\" column \n",
    "print (df['rating'].dtypes)"
   ]
  },
  {
   "cell_type": "code",
   "execution_count": 8,
   "id": "af5d5dab",
   "metadata": {},
   "outputs": [
    {
     "name": "stdout",
     "output_type": "stream",
     "text": [
      "Top-rated restaurants:\n",
      "restaurant_name\n",
      "'wichcraft            5.0\n",
      "67 Burger             5.0\n",
      "Anjappar Chettinad    5.0\n",
      "Asuka Sushi           5.0\n",
      "Balade                5.0\n",
      "Name: rating, dtype: float64\n"
     ]
    }
   ],
   "source": [
    "# Calculate average rating per restaurant\n",
    "\n",
    "avg_rating_per_restaurant = df.groupby('restaurant_name')['rating'].mean()\n",
    "\n",
    "# Identify the top-rated restaurants\n",
    "top_rated_restaurants = avg_rating_per_restaurant.nlargest(5)\n",
    "\n",
    "# Print the top-rated restaurants\n",
    "\n",
    "print(\"Top-rated restaurants:\")\n",
    "print(top_rated_restaurants)"
   ]
  },
  {
   "cell_type": "code",
   "execution_count": 9,
   "id": "7a9c8ce4",
   "metadata": {},
   "outputs": [
    {
     "name": "stdout",
     "output_type": "stream",
     "text": [
      "Popular restaurants:\n",
      "Shake Shack                  219\n",
      "The Meatball Shop            132\n",
      "Blue Ribbon Sushi            119\n",
      "Blue Ribbon Fried Chicken     96\n",
      "Parm                          68\n",
      "Name: restaurant_name, dtype: int64\n"
     ]
    }
   ],
   "source": [
    "# Calculate the number of orders per restaurant\n",
    "order_count_per_restaurant = df['restaurant_name'].value_counts()\n",
    "\n",
    "# Identify the popular restaurants\n",
    "popular_restaurants = order_count_per_restaurant.nlargest(5)\n",
    "\n",
    "# Print the popular restaurants\n",
    "print(\"Popular restaurants:\")\n",
    "print(popular_restaurants)"
   ]
  },
  {
   "cell_type": "code",
   "execution_count": 15,
   "id": "baa9d28b",
   "metadata": {},
   "outputs": [
    {
     "name": "stdout",
     "output_type": "stream",
     "text": [
      "Popular restaurants:\n",
      "Shake Shack                  219\n",
      "The Meatball Shop            132\n",
      "Blue Ribbon Sushi            119\n",
      "Blue Ribbon Fried Chicken     96\n",
      "Parm                          68\n",
      "Name: restaurant_name, dtype: int64\n",
      "Restaurants with the highest weekday demand:\n",
      "Shake Shack                  74\n",
      "The Meatball Shop            37\n",
      "Blue Ribbon Sushi            34\n",
      "Parm                         26\n",
      "Blue Ribbon Fried Chicken    22\n",
      "Name: restaurant_name, dtype: int64\n",
      "Restaurants with the highest weekend demand:\n",
      "Shake Shack                  145\n",
      "The Meatball Shop             95\n",
      "Blue Ribbon Sushi             85\n",
      "Blue Ribbon Fried Chicken     74\n",
      "RedFarm Broadway              44\n",
      "Name: restaurant_name, dtype: int64\n"
     ]
    }
   ],
   "source": [
    "# Calculate the number of orders per restaurant\n",
    "order_count_per_restaurant = df['restaurant_name'].value_counts()\n",
    "\n",
    "# Identify the popular restaurants\n",
    "popular_restaurants = order_count_per_restaurant.nlargest(5)\n",
    "\n",
    "# Print the popular restaurants\n",
    "print(\"Popular restaurants:\")\n",
    "print(popular_restaurants)\n",
    "\n",
    "# Calculate the number of orders on weekdays and weekends\n",
    "order_count_weekday = df[df['day_of_the_week'] == 'Weekday']['restaurant_name'].value_counts()\n",
    "order_count_weekend = df[df['day_of_the_week'] == 'Weekend']['restaurant_name'].value_counts()\n",
    "\n",
    "# Identify the restaurants with the highest weekday and weekend demand\n",
    "weekday_demand_restaurants = order_count_weekday.nlargest(5)\n",
    "weekend_demand_restaurants = order_count_weekend.nlargest(5)\n",
    "\n",
    "# Print the restaurants with the highest weekday and weekend demand\n",
    "if weekday_demand_restaurants.empty:\n",
    "    print(\"No restaurants with the highest weekday demand.\")\n",
    "else:\n",
    "    print(\"Restaurants with the highest weekday demand:\")\n",
    "    print(weekday_demand_restaurants)\n",
    "\n",
    "if weekend_demand_restaurants.empty:\n",
    "    print(\"No restaurants with the highest weekend demand.\")\n",
    "else:\n",
    "    print(\"Restaurants with the highest weekend demand:\")\n",
    "    print(weekend_demand_restaurants)"
   ]
  },
  {
   "cell_type": "code",
   "execution_count": 16,
   "id": "75326fc7",
   "metadata": {},
   "outputs": [
    {
     "name": "stdout",
     "output_type": "stream",
     "text": [
      "Restaurants with the longest average food preparation time:\n",
      "restaurant_name\n",
      "Cipriani Le Specialita    35.0\n",
      "Kambi Ramen House         35.0\n",
      "Klong                     35.0\n",
      "Sushi Choshi              35.0\n",
      "Taro Sushi                35.0\n",
      "Name: food_preparation_time, dtype: float64\n",
      "Restaurants with the longest average delivery time:\n",
      "restaurant_name\n",
      "Sarabeth's West       33.0\n",
      "Haru Gramercy Park    32.0\n",
      "Taro Sushi            32.0\n",
      "Frank Restaurant      31.0\n",
      "Haandi                30.5\n",
      "Name: delivery_time, dtype: float64\n"
     ]
    }
   ],
   "source": [
    "# Calculate average food preparation time per restaurant\n",
    "avg_prep_time_per_restaurant = df.groupby('restaurant_name')['food_preparation_time'].mean()\n",
    "\n",
    "# Identify the restaurants with the longest average food preparation time\n",
    "longest_prep_time_restaurants = avg_prep_time_per_restaurant.nlargest(5)\n",
    "\n",
    "# Print the restaurants with the longest average food preparation time\n",
    "print(\"Restaurants with the longest average food preparation time:\")\n",
    "print(longest_prep_time_restaurants)\n",
    "\n",
    "# Calculate average delivery time per restaurant\n",
    "avg_delivery_time_per_restaurant = df.groupby('restaurant_name')['delivery_time'].mean()\n",
    "\n",
    "# Identify the restaurants with the longest average delivery time\n",
    "longest_delivery_time_restaurants = avg_delivery_time_per_restaurant.nlargest(5)\n",
    "\n",
    "# Print the restaurants with the longest average delivery time\n",
    "print(\"Restaurants with the longest average delivery time:\")\n",
    "print(longest_delivery_time_restaurants)\n"
   ]
  },
  {
   "cell_type": "code",
   "execution_count": 20,
   "id": "91185f50",
   "metadata": {},
   "outputs": [
    {
     "name": "stdout",
     "output_type": "stream",
     "text": [
      "Restaurants with the highest average cost\n",
      "restaurant_name\n",
      "Kambi Ramen House      32.930\n",
      "Emporio                31.430\n",
      "Bhatti Indian Grill    31.115\n",
      "Haru Gramercy Park     29.830\n",
      "Il Bambino             29.250\n",
      "Name: cost_of_the_order, dtype: float64\n"
     ]
    }
   ],
   "source": [
    "# Calculate the average cost per restaurant\n",
    "avg_cost_per_restaurant = df.groupby('restaurant_name')['cost_of_the_order'].mean()\n",
    "\n",
    "# Identify the restaurants with the highest average cost\n",
    "highest_average_cost = avg_cost_per_restaurant.nlargest(5)\n",
    "\n",
    "# Print the restaurants with the highest average cost\n",
    "print (\"Restaurants with the highest average cost\")\n",
    "print (highest_average_cost)"
   ]
  },
  {
   "cell_type": "code",
   "execution_count": 22,
   "id": "91355405",
   "metadata": {},
   "outputs": [
    {
     "name": "stdout",
     "output_type": "stream",
     "text": [
      "Average cost on weekdays: 16.311188299817182\n",
      "Average cost on weekends: 16.574833456698745\n"
     ]
    }
   ],
   "source": [
    "# Calculate the average cost on weekdays\n",
    "avg_cost_weekday = df[df['day_of_the_week'] == 'Weekday']['cost_of_the_order'].mean()\n",
    "\n",
    "# Calculate the average cost on weekends\n",
    "avg_cost_weekend = df[df['day_of_the_week'] == 'Weekend']['cost_of_the_order'].mean()\n",
    "\n",
    "# Print the average cost on weekdays and weekends\n",
    "print(\"Average cost on weekdays:\", avg_cost_weekday)\n",
    "print(\"Average cost on weekends:\", avg_cost_weekend)\n"
   ]
  },
  {
   "cell_type": "code",
   "execution_count": 23,
   "id": "34e8d66f",
   "metadata": {},
   "outputs": [
    {
     "name": "stdout",
     "output_type": "stream",
     "text": [
      "Customer Retention Analysis:\n",
      "Total Unique Customers: 1200\n",
      "Number of Repeat Customers: 698\n",
      "Percentage of Repeat Customers: 58.166666666666664\n"
     ]
    }
   ],
   "source": [
    "# Calculate the number of unique customers\n",
    "unique_customers = df['customer_id'].nunique()\n",
    "\n",
    "# Calculate the number of repeat customers\n",
    "repeat_customers = df['customer_id'].duplicated().sum()\n",
    "\n",
    "# Calculate the percentage of repeat customers\n",
    "percentage_repeat_customers = (repeat_customers / unique_customers) * 100\n",
    "\n",
    "# Print the customer retention analysis results\n",
    "print(\"Customer Retention Analysis:\")\n",
    "print(\"Total Unique Customers:\", unique_customers)\n",
    "print(\"Number of Repeat Customers:\", repeat_customers)\n",
    "print(\"Percentage of Repeat Customers:\", percentage_repeat_customers)\n"
   ]
  },
  {
   "cell_type": "code",
   "execution_count": null,
   "id": "5af11eef",
   "metadata": {},
   "outputs": [],
   "source": []
  },
  {
   "cell_type": "markdown",
   "id": "8ccb85b1",
   "metadata": {},
   "source": [
    "* Observations\n",
    "\n",
    "Customer Satisfaction Analysis:\n",
    "\n",
    "The top-rated restaurants based on customer ratings are 'wichcraft, 67 Burger, Anjappar Chettinad, Asuka Sushi, and Balade.\n",
    "Restaurant Demand Analysis:\n",
    "\n",
    "The popular restaurants based on the order count are Shake Shack, The Meatball Shop, Blue Ribbon Sushi, Blue Ribbon Fried Chicken, and Parm.\n",
    "Among these popular restaurants, Shake Shack has the highest demand on both weekdays and weekends.\n",
    "Food Preparation and Delivery Time Analysis:\n",
    "\n",
    "The restaurants with the longest average food preparation time are Cipriani Le Specialita, Kambi Ramen House, Klong, Sushi Choshi, and Taro Sushi.\n",
    "The restaurants with the longest average delivery time are Sarabeth's West, Haru Gramercy Park, Taro Sushi, Frank Restaurant, and Haandi.\n",
    "Cost Analysis:\n",
    "\n",
    "The restaurants with the highest average cost per order are Kambi Ramen House, Emporio, Bhatti Indian Grill, Haru Gramercy Park, and Il Bambino.\n",
    "The average cost of orders on weekdays is $16.31, and on weekends, it is $16.57.\n",
    "Customer Retention Analysis:\n",
    "\n",
    "Out of the total 1200 unique customers, 698 customers have placed repeat orders, indicating a customer retention rate of 58.17%.\n"
   ]
  },
  {
   "cell_type": "markdown",
   "id": "2bc1c7b9",
   "metadata": {},
   "source": [
    "* Recommendations\n",
    "\n",
    "Customer Satisfaction Analysis:Reach out to the top-rated restaurants, such as 'wichcraft, 67 Burger, Anjappar Chettinad, Asuka Sushi, and Balade, to acknowledge their excellent performance and maintain a strong relationship with them.\n",
    "Consider featuring these top-rated restaurants prominently in the app to attract more customers and boost overall customer satisfaction.\n",
    "Analyze customer reviews and feedback for these restaurants to identify specific aspects that contribute to their high ratings. Share these insights with other restaurants to help them improve their offerings and enhance customer satisfaction.\n",
    "\n",
    "Restaurant Demand Analysis:Work closely with Shake Shack, The Meatball Shop, Blue Ribbon Sushi, Blue Ribbon Fried Chicken, and Parm, as these restaurants have high demand and are popular among customers.\n",
    "Collaborate with these popular restaurants to ensure efficient order processing, minimize wait times, and optimize the delivery process to enhance customer experience.\n",
    "Analyze the demand patterns on weekdays and weekends to allocate resources effectively. Consider adjusting staffing levels and delivery personnel availability to meet the fluctuating demand during different days of the week.\n",
    "\n",
    "Food Preparation and Delivery Time Analysis:Engage with the restaurants that have longer average food preparation and delivery times, such as Cipriani Le Specialita, Kambi Ramen House, Klong, Sushi Choshi, Sarabeth's West, Haru Gramercy Park, Frank Restaurant, and Haandi.\n",
    "Discuss with these restaurants to identify potential bottlenecks and find ways to improve their processes for faster food preparation and delivery.\n",
    "Provide training and guidelines to restaurant staff and delivery personnel to optimize efficiency without compromising on food quality or safety.\n",
    "\n",
    "Cost Analysis:Review the pricing strategy for restaurants with higher average costs per order, including Kambi Ramen House, Emporio, Bhatti Indian Grill, Haru Gramercy Park, and Il Bambino.\n",
    "Assess the perceived value provided by these restaurants and ensure that the pricing aligns with customer expectations.\n",
    "Explore opportunities to negotiate better pricing terms with these restaurants to maintain profitability while offering competitive prices to customers.\n",
    "\n",
    "Customer Retention Analysis:Implement a customer loyalty program or rewards system to incentivize repeat orders and encourage customer retention.\n",
    "Leverage customer segmentation techniques to identify high-value customers and personalize offers or promotions to enhance their loyalty.\n",
    "Continuously monitor customer feedback and ratings to identify areas for improvement and address any issues promptly."
   ]
  },
  {
   "cell_type": "code",
   "execution_count": null,
   "id": "53103049",
   "metadata": {},
   "outputs": [],
   "source": []
  }
 ],
 "metadata": {
  "kernelspec": {
   "display_name": "Python 3 (ipykernel)",
   "language": "python",
   "name": "python3"
  },
  "language_info": {
   "codemirror_mode": {
    "name": "ipython",
    "version": 3
   },
   "file_extension": ".py",
   "mimetype": "text/x-python",
   "name": "python",
   "nbconvert_exporter": "python",
   "pygments_lexer": "ipython3",
   "version": "3.10.9"
  }
 },
 "nbformat": 4,
 "nbformat_minor": 5
}
